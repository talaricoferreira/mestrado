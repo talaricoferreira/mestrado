{
  "nbformat": 4,
  "nbformat_minor": 0,
  "metadata": {
    "colab": {
      "provenance": [],
      "authorship_tag": "ABX9TyMmnOBnn3gZld+qh/zsfpHP",
      "include_colab_link": true
    },
    "kernelspec": {
      "name": "python3",
      "display_name": "Python 3"
    },
    "language_info": {
      "name": "python"
    }
  },
  "cells": [
    {
      "cell_type": "markdown",
      "metadata": {
        "id": "view-in-github",
        "colab_type": "text"
      },
      "source": [
        "<a href=\"https://colab.research.google.com/github/talaricoferreira/mestrado/blob/main/Classificador_Baysiano.ipynb\" target=\"_parent\"><img src=\"https://colab.research.google.com/assets/colab-badge.svg\" alt=\"Open In Colab\"/></a>"
      ]
    },
    {
      "cell_type": "markdown",
      "source": [
        "#Testes com Algoritimo de Baysiana tirada do Artigo de Holmes ans Held (2006)\n",
        "[Implementação em R do Artigo](https://rstudio-pubs-static.s3.amazonaws.com/208180_b659633007eb45aa9c48e4c50b8afc07.html)\n",
        "\n",
        "\n",
        "\n",
        "---\n",
        "\n"
      ],
      "metadata": {
        "id": "9LsTf5IL0UIi"
      }
    },
    {
      "cell_type": "markdown",
      "source": [
        "##Importando Bibliotecas"
      ],
      "metadata": {
        "id": "5lU_jZQ89ixj"
      }
    },
    {
      "cell_type": "code",
      "source": [
        "import numpy as np\n",
        "from scipy.stats import truncnorm, multivariate_normal\n",
        "from sklearn.datasets import load_iris\n",
        "from sklearn.model_selection import train_test_split\n",
        "from sklearn.metrics import accuracy_score\n",
        "from sklearn.decomposition import PCA\n",
        "from collections import Counter\n"
      ],
      "metadata": {
        "id": "Z377G62hxHFr"
      },
      "execution_count": 54,
      "outputs": []
    },
    {
      "cell_type": "markdown",
      "source": [
        "## DEFINIDO AS FUNÇOES"
      ],
      "metadata": {
        "id": "7A7Myyyb-Xsy"
      }
    },
    {
      "cell_type": "markdown",
      "source": [
        "###Holmes and Held Extension Multiclass"
      ],
      "metadata": {
        "id": "2sEO8xgn-6Du"
      }
    },
    {
      "cell_type": "code",
      "source": [
        "\n",
        "\n",
        "def gibbs_sampling(X, y, N_sim, burn_in):\n",
        "    D = X.shape[1]\n",
        "    N = len(X)\n",
        "    y_len = len(y)\n",
        "\n",
        "    # Matrix projeção coeficiente aleatória\n",
        "    V = np.random.rand(D, D)\n",
        "    cov_X = np.cov(X.T)\n",
        "    V = cov_X + 1e-12 * np.eye(D)\n",
        "    S = np.dot(V, X.T)\n",
        "\n",
        "    h, w, u = np.zeros((3, N))\n",
        "    for j in range(N):\n",
        "        h[j] = X[j, :] @ S[:, j]\n",
        "        w[j] = h[j] / (1 - h[j])\n",
        "        u[j] = w[j] + 1\n",
        "\n",
        "    z = np.where(y == 0, truncnorm.rvs(-np.inf, 0, loc=0, scale=1, size=y_len),\n",
        "                 truncnorm.rvs(0, np.inf, loc=0, scale=1, size=y_len))\n",
        "\n",
        "    theta_chain_holmes = np.zeros((N_sim, D))\n",
        "    M = S @ z\n",
        "\n",
        "    for t in range(1, N_sim + 1):\n",
        "        for j in range(N):\n",
        "            z_old = z[j]\n",
        "            m = X[j, :] @ M\n",
        "            m = m - w[j] * (z[j] - m)\n",
        "            if y[j] == 0:\n",
        "                z[j] = truncnorm.rvs(-np.inf, 0, loc=m, scale=abs(u[j]), size=1)\n",
        "            else:\n",
        "                z[j] = truncnorm.rvs(0, np.inf, loc=m, scale=abs(u[j]), size=1)\n",
        "            M = M + (z[j] - z_old) * S[:, j]\n",
        "        if t >= burn_in:\n",
        "            theta_chain_holmes[t - burn_in, :] = multivariate_normal.rvs(mean=M, cov=V, size=1)\n",
        "\n",
        "    post_theta_holmes = np.mean(theta_chain_holmes[burn_in:], axis=0)\n",
        "\n",
        "    return post_theta_holmes\n"
      ],
      "metadata": {
        "id": "LwDIhaY1wT7k"
      },
      "execution_count": 55,
      "outputs": []
    },
    {
      "cell_type": "markdown",
      "source": [
        "### Holmes and Held Extension Multiclass"
      ],
      "metadata": {
        "id": "5xirqyyn-f56"
      }
    },
    {
      "cell_type": "code",
      "source": [
        "\n",
        "\n",
        "def gibbs_sampling_multiclass(X, y, N_sim, burn_in):\n",
        "    D = X.shape[1]\n",
        "    N = len(X)\n",
        "    C = len(np.unique(y))  # Número de classes\n",
        "\n",
        "    V = np.random.rand(D, D)\n",
        "    cov_X = np.cov(X.T)\n",
        "    V = cov_X + 1e-12 * np.eye(D)\n",
        "    S = np.dot(V, X.T)\n",
        "\n",
        "    h, w, u = np.zeros((3, N))\n",
        "    for j in range(N):\n",
        "        h[j] = X[j, :] @ S[:, j]\n",
        "        w[j] = h[j] / (1 - h[j])\n",
        "        u[j] = w[j] + 1\n",
        "\n",
        "    theta_chain_holmes = np.zeros((N_sim, D, C))\n",
        "    M = np.zeros((D, C))\n",
        "\n",
        "    for t in range(1, N_sim + 1):\n",
        "        for c in range(C):\n",
        "            z = np.where(y == c, truncnorm.rvs(0, np.inf, loc=0, scale=1, size=N),\n",
        "                         truncnorm.rvs(-np.inf, 0, loc=0, scale=1, size=N))\n",
        "            for j in range(N):\n",
        "                z_old = z[j]\n",
        "                m = X[j, :] @ M[:, c]\n",
        "                m = m - w[j] * (z[j] - m)\n",
        "                z[j] = truncnorm.rvs(-np.inf, np.inf, loc=m, scale=abs(u[j]), size=1)\n",
        "                M[:, c] = M[:, c] + (z[j] - z_old) * S[:, j]\n",
        "            if t >= burn_in:\n",
        "                theta_chain_holmes[t - burn_in, :, c] = multivariate_normal.rvs(mean=M[:, c], cov=V, size=1)\n",
        "\n",
        "    post_theta_holmes = np.mean(theta_chain_holmes[burn_in:], axis=0)\n",
        "\n",
        "    return post_theta_holmes\n"
      ],
      "metadata": {
        "id": "qOXAsCAa4hxh"
      },
      "execution_count": 56,
      "outputs": []
    },
    {
      "cell_type": "markdown",
      "source": [
        "### Preditor"
      ],
      "metadata": {
        "id": "pW-N2ee__AvG"
      }
    },
    {
      "cell_type": "code",
      "source": [
        "def predictor(X, post_theta):\n",
        "    predictions = np.dot(X, post_theta)\n",
        "    return np.argmax(predictions, axis=1)"
      ],
      "metadata": {
        "id": "Ll7WquQ62C5R"
      },
      "execution_count": 57,
      "outputs": []
    },
    {
      "cell_type": "markdown",
      "source": [
        "##Usando o Dataset Iris como Teste\n",
        "Por ser uma base de dados conhecida é mais facil usa-la para testar o algoritimo, aqui já fazendo o *split* da base\n",
        "\n",
        "\n",
        "---\n",
        "\n",
        "E após isso rodando o gibbs_sampling"
      ],
      "metadata": {
        "id": "f7yvMAt099-P"
      }
    },
    {
      "cell_type": "code",
      "source": [
        "iris = load_iris()\n",
        "X = iris.data\n",
        "y = iris.target\n",
        "target_names = iris.target_names\n",
        "\n",
        "# Dividir os dados em conjuntos de treinamento e teste\n",
        "X_train, X_test, y_train, y_test = train_test_split(X, y, test_size=0.4, random_state=42)\n",
        "# Executar o Gibbs sampling para obter os parâmetros estimados\n",
        "N_sim = 1000\n",
        "burn_in = 200\n",
        "post_theta_holmes = gibbs_sampling_multiclass(X_train, y_train, N_sim, burn_in)\n",
        "\n",
        "print(post_theta_holmes)"
      ],
      "metadata": {
        "colab": {
          "base_uri": "https://localhost:8080/"
        },
        "outputId": "cd4dfa5d-cdd0-4584-d28b-b198448de55f",
        "id": "3gy5t3QxDqdY"
      },
      "execution_count": 58,
      "outputs": [
        {
          "output_type": "stream",
          "name": "stdout",
          "text": [
            "[[-0.02931736  0.21801698 -0.35727082]\n",
            " [ 0.27799136 -0.5497408   0.21835314]\n",
            " [-0.24879957 -0.00607172  0.18006429]\n",
            " [ 0.01262434 -0.58362922  0.56794001]]\n"
          ]
        }
      ]
    },
    {
      "cell_type": "code",
      "source": [
        "df = pd.read_csv('/content/dataframe_violins.csv')"
      ],
      "metadata": {
        "id": "aFSHNlN4ZrY0"
      },
      "execution_count": null,
      "outputs": []
    },
    {
      "cell_type": "code",
      "source": [
        "anonym_synonym = ['Anonyme','ok\\xc3\\xa4nd/os\\xc3\\xa4ker (unknown or not sure)','Auteur onbekend',\\\n",
        "                  'Anonymous','anonimo']\n",
        "\n",
        "for l in anonym_synonym:\n",
        "    df.loc[df.Maker==l,'Maker'] = np.nan\n",
        "\n",
        "df.loc[df.Country=='Unclear','Country'] = np.nan\n",
        "df.loc[(df.Year<500),'Year'] = np.nan; df.loc[(df.Year>2017),'Year'] = np.nan\n",
        "\n",
        "\n",
        "makersorg = Counter(df.Maker.loc[~df.Maker.isnull()]).most_common()\n",
        "\n",
        "makers = makersorg[0:7]\n",
        "makers.append(makersorg[9])\n",
        "names_makers = [name[0] for name in makers]"
      ],
      "metadata": {
        "id": "w0s4VzQTZsbf"
      },
      "execution_count": null,
      "outputs": []
    },
    {
      "cell_type": "code",
      "source": [
        "df2 = df[df['Maker'].isin(names_makers)]"
      ],
      "metadata": {
        "id": "691Kzx9bZ36g"
      },
      "execution_count": null,
      "outputs": []
    },
    {
      "cell_type": "code",
      "source": [
        "variables = ['a','b','c','d','e','f','h1','h2','width','s1','s2','s3','s4','s5','s6','H']\n",
        "\n",
        "M = df2.loc[:,variables]\n",
        "M = (M - M.mean(axis=0))/(M.std(axis=0))\n",
        "N\n",
        "##Matriz com as features de cada luthier\n",
        "M = M.dropna() #M.get_values() para formato numpy\n",
        "\n",
        "##PCA para plotar\n",
        "X = PCA(n_components=2).fit_transform(M)"
      ],
      "metadata": {
        "id": "S8hfkrU9ZiIh"
      },
      "execution_count": null,
      "outputs": []
    },
    {
      "cell_type": "markdown",
      "source": [
        "###Teste de acurácia"
      ],
      "metadata": {
        "id": "YzIwXBIT_Tko"
      }
    },
    {
      "cell_type": "code",
      "source": [
        "# Fazer previsões nos dados de teste\n",
        "y_pred = predictor(X_test, post_theta_holmes)\n",
        "y_test_mapped = iris.target_names[y_test]\n",
        "# Calcular a acurácia do preditor\n",
        "print(y_test_mapped)\n",
        "print()\n",
        "print(y_pred)\n",
        "accuracy = accuracy_score(y_test, y_pred)\n",
        "print(\"Acurácia do preditor:\", accuracy)"
      ],
      "metadata": {
        "colab": {
          "base_uri": "https://localhost:8080/"
        },
        "id": "HGtIZYjg1yxg",
        "outputId": "c1314e8a-0994-4ccd-82a2-730c4b062b0d"
      },
      "execution_count": 59,
      "outputs": [
        {
          "output_type": "stream",
          "name": "stdout",
          "text": [
            "['versicolor' 'setosa' 'virginica' 'versicolor' 'versicolor' 'setosa'\n",
            " 'versicolor' 'virginica' 'versicolor' 'versicolor' 'virginica' 'setosa'\n",
            " 'setosa' 'setosa' 'setosa' 'versicolor' 'virginica' 'versicolor'\n",
            " 'versicolor' 'virginica' 'setosa' 'virginica' 'setosa' 'virginica'\n",
            " 'virginica' 'virginica' 'virginica' 'virginica' 'setosa' 'setosa'\n",
            " 'setosa' 'setosa' 'versicolor' 'setosa' 'setosa' 'virginica' 'versicolor'\n",
            " 'setosa' 'setosa' 'setosa' 'virginica' 'versicolor' 'versicolor' 'setosa'\n",
            " 'setosa' 'versicolor' 'virginica' 'virginica' 'versicolor' 'virginica'\n",
            " 'versicolor' 'virginica' 'versicolor' 'setosa' 'virginica' 'versicolor'\n",
            " 'setosa' 'setosa' 'setosa' 'versicolor']\n",
            "\n",
            "[2 0 2 2 2 0 2 2 2 2 2 0 0 0 0 2 2 2 2 2 0 2 0 2 2 2 2 2 0 0 0 0 2 0 0 2 2\n",
            " 0 0 0 2 2 2 0 0 2 2 2 2 2 2 2 2 0 2 2 0 0 0 2]\n",
            "Acurácia do preditor: 0.6833333333333333\n"
          ]
        }
      ]
    },
    {
      "cell_type": "code",
      "source": [],
      "metadata": {
        "id": "ohCRJhCt3lZU"
      },
      "execution_count": 59,
      "outputs": []
    }
  ]
}